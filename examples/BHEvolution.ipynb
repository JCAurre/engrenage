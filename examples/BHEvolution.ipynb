{
 "cells": [
  {
   "cell_type": "code",
   "execution_count": null,
   "id": "ff3f7338",
   "metadata": {},
   "outputs": [],
   "source": [
    "# Isotropic Schwarzschild BH example\n",
    "# see further details in https://github.com/GRChombo/engrenage/wiki/Running-the-black-hole-example\n",
    "\n",
    "# restart the kernel to clear past work\n",
    "# (can also do this manually from the Kernel options above)\n",
    "from IPython.core.display import HTML\n",
    "HTML(\"<script>Jupyter.notebook.kernel.restart()</script>\")"
   ]
  },
  {
   "cell_type": "code",
   "execution_count": null,
   "id": "5ae36db4",
   "metadata": {},
   "outputs": [],
   "source": [
    "# load the required python modules\n",
    "import numpy as np\n",
    "from scipy.interpolate import interp1d\n",
    "from scipy.integrate import odeint\n",
    "from scipy.integrate import solve_ivp\n",
    "import time\n",
    "import random\n",
    "import sys\n",
    "from tqdm import tqdm\n",
    "import matplotlib.pyplot as plt\n",
    "%matplotlib inline\n",
    "\n",
    "# homemade code\n",
    "sys.path.append('../')\n",
    "from source.rhsevolution import *              # go here to look at how the evolution works\n",
    "from source.bhinitialconditions import *       # go here to change the initial conditions\n",
    "from source.hamdiagnostic import *             # go here to change the Ham constraint diagnostic\n",
    "from source.ahfinder import *                  # go here to change the apparent horizon finder\n",
    "from source.Grid import *"
   ]
  },
  {
   "cell_type": "code",
   "execution_count": null,
   "id": "e0b8dc67",
   "metadata": {},
   "outputs": [],
   "source": [
    "# Input parameters for grid and evolution here\n",
    "max_r = 96.0 # outer edge of the grid (including ghosts)\n",
    "num_points_r = 124 # total (including ghosts)\n",
    "log_factor = 1.04 # increase in dr interval at each grid step\n",
    "my_grid = Grid(max_r, num_points_r, log_factor)\n",
    "r = my_grid.r_vector\n",
    "\n",
    "initial_state = get_initial_state(my_grid)\n",
    "\n",
    "#unpackage the vector for readability\n",
    "(initial_u, initial_v , initial_phi, initial_hrr, initial_htt, initial_hpp, \n",
    " initial_K, initial_arr, initial_att, initial_app, \n",
    " initial_lambdar, initial_shiftr, initial_br, initial_lapse) = np.array_split(initial_state, NUM_VARS)\n",
    "\n",
    "#plot initial conditions\n",
    "plt.xlabel('r')\n",
    "#plt.plot(r, initial_u, label='u')\n",
    "#plt.plot(r, initial_v, label='v')\n",
    "#plt.plot(r, initial_arr, label='arr')\n",
    "#plt.plot(r, initial_att, label='att')\n",
    "#plt.plot(r, initial_K, label='K')\n",
    "plt.plot(r, initial_phi, label='phi')\n",
    "plt.plot(r, initial_hrr, '-o', label='hrr') # zero, but plot as dots to see the grid\n",
    "plt.plot(r, initial_lapse, label='lapse')\n",
    "#plt.plot(r, initial_lambdar, label='lambdar')\n",
    "plt.legend(loc='best')\n",
    "plt.xlim(-1.2,4.2)\n",
    "#plt.ylim(-0.001,0.001)\n",
    "plt.grid()"
   ]
  },
  {
   "cell_type": "code",
   "execution_count": null,
   "id": "5515ca2e",
   "metadata": {},
   "outputs": [],
   "source": [
    "# check the Hamiltonian constraint initially satisfied\n",
    "Ham = get_Ham_diagnostic(initial_state, np.array([0]), my_grid)\n",
    "\n",
    "# plot the profile for Ham\n",
    "plt.plot(r, Ham[0])\n",
    "\n",
    "plt.xlabel('r')\n",
    "#plt.xlim(-0.5,R+2)\n",
    "#plt.ylim(-0.1,0.1)\n",
    "plt.ylabel('Ham value')\n",
    "plt.grid()"
   ]
  },
  {
   "cell_type": "code",
   "execution_count": null,
   "id": "d97150a0",
   "metadata": {},
   "outputs": [],
   "source": [
    "# for control of time integrator and spatial grid\n",
    "T = 48.0 # Maximum evolution time\n",
    "num_points_t = 128 # time resolution (only for outputs, not for integration, which is decided by python)\n",
    "\n",
    "# Work out dt and time spacing of outputs\n",
    "dt = T/num_points_t\n",
    "t = np.linspace(0, T-dt, num_points_t)\n",
    "eta = 2.0 # the 1+log slicing damping coefficient - of order 1/M_adm of spacetime\n",
    "\n",
    "# Solve for the solution using RK45 integration of the ODE\n",
    "# to make like (older) python odeint method use method='LSODA' instead\n",
    "# use tqdm package to track progress\n",
    "with tqdm(total=1000, unit=\"‰\") as progress_bar:\n",
    "    dense_solution = solve_ivp(get_rhs, [0,T], initial_state, \n",
    "                               args=(my_grid, eta, progress_bar, [0, T/1000]),\n",
    "                        #atol=1e-5, rtol=1e-5,\n",
    "                        max_step=(0.3*my_grid.base_dx), #for stability\n",
    "                        method='RK45', dense_output=True)\n",
    "\n",
    "# Interpolate the solution at the time points requested\n",
    "solution = dense_solution.sol(t).T"
   ]
  },
  {
   "cell_type": "code",
   "execution_count": null,
   "id": "45fcb464",
   "metadata": {},
   "outputs": [],
   "source": [
    "# Plot a single point versus time\n",
    "var1 = idx_K\n",
    "var2 = idx_lapse\n",
    "\n",
    "idx = num_ghosts+2 # Choose an inner point\n",
    "r_i = np.round(r[idx],2)\n",
    "var1_of_t = solution[:, var1 * num_points_r + idx]\n",
    "plt.plot(t, var1_of_t, 'b-', label=variable_names[var1])\n",
    "var2_of_t = solution[:, var2 * num_points_r + idx]\n",
    "plt.plot(t, var2_of_t, 'g-', label=variable_names[var2])\n",
    "plt.legend(loc='best')\n",
    "plt.xlabel('t')\n",
    "plt.ylabel('value at r is '+str(r_i))\n",
    "plt.legend(loc='best')\n",
    "plt.grid()"
   ]
  },
  {
   "cell_type": "code",
   "execution_count": null,
   "id": "61ee31bd",
   "metadata": {},
   "outputs": [],
   "source": [
    "# plot the profile for some variable at a selection of times\n",
    "var = idx_lapse # I suggest looking at shiftr, lapse, K or phi to see the gauge evolution\n",
    "\n",
    "for i, t_i in enumerate(t) :\n",
    "    if (i < num_points_t) and (i % 20 == 0) and (t_i > 0.0):\n",
    "        labelt = \"t=\"+str(round(t_i,2))\n",
    "        f_t = solution[i, var * num_points_r: (var + 1) * num_points_r]\n",
    "        plt.plot(r, f_t, label=labelt)\n",
    "\n",
    "plt.legend(loc=4)\n",
    "plt.xlabel('r')\n",
    "#plt.xlim(1.0,9.0)\n",
    "#plt.ylim(-0.04,0.04)\n",
    "plt.ylabel('value over time of ' + variable_names[var])\n",
    "plt.grid()"
   ]
  },
  {
   "cell_type": "code",
   "execution_count": null,
   "id": "94800712",
   "metadata": {},
   "outputs": [],
   "source": [
    "# calculate the diagnostics\n",
    "Ham = get_Ham_diagnostic(solution, t, my_grid)\n",
    "theta, massBH = find_massBH(solution, t, my_grid)"
   ]
  },
  {
   "cell_type": "code",
   "execution_count": null,
   "id": "0cd0795a",
   "metadata": {},
   "outputs": [],
   "source": [
    "# plot the profile for Ham at a selection of times\n",
    "\n",
    "for i, t_i in enumerate(t) :\n",
    "    if (i < num_points_t) and (i % 20 == 0) :\n",
    "        labelt = \"t=\"+str(round(t_i,2))\n",
    "        Ham_t = Ham[i]\n",
    "        plt.plot(r, Ham_t, label=labelt)\n",
    "\n",
    "plt.legend(loc=4)\n",
    "plt.xlabel('r')\n",
    "plt.xlim(-1,10)\n",
    "plt.ylim(-0.05,0.05)\n",
    "plt.ylabel('Ham value over time')\n",
    "plt.grid()"
   ]
  },
  {
   "cell_type": "code",
   "execution_count": null,
   "id": "94615ed5",
   "metadata": {},
   "outputs": [],
   "source": [
    "# plot the evolution of the BH mass\n",
    "\n",
    "plt.plot(t, massBH)\n",
    "plt.ylabel(r\"$M_\\mathrm{bh}$\")\n",
    "plt.xlabel(r\"$t/M$\")"
   ]
  },
  {
   "cell_type": "code",
   "execution_count": null,
   "id": "70ff344b",
   "metadata": {},
   "outputs": [],
   "source": []
  }
 ],
 "metadata": {
  "kernelspec": {
   "display_name": "Python 3 (ipykernel)",
   "language": "python",
   "name": "python3"
  },
  "language_info": {
   "codemirror_mode": {
    "name": "ipython",
    "version": 3
   },
   "file_extension": ".py",
   "mimetype": "text/x-python",
   "name": "python",
   "nbconvert_exporter": "python",
   "pygments_lexer": "ipython3",
   "version": "3.11.2"
  }
 },
 "nbformat": 4,
 "nbformat_minor": 5
}
